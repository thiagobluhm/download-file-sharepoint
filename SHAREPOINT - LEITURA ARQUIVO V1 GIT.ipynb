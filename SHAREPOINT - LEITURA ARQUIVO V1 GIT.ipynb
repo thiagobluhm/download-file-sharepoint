{
 "cells": [
  {
   "cell_type": "markdown",
   "id": "7b064982",
   "metadata": {},
   "source": [
    "# Download arquivo Sharepoint "
   ]
  },
  {
   "cell_type": "code",
   "execution_count": 109,
   "id": "fb70b905",
   "metadata": {
    "ExecuteTime": {
     "end_time": "2022-10-26T19:11:56.888400Z",
     "start_time": "2022-10-26T19:11:56.874085Z"
    }
   },
   "outputs": [],
   "source": [
    "from office365.runtime.auth.authentication_context import AuthenticationContext\n",
    "from office365.sharepoint.client_context import ClientContext\n",
    "from office365.sharepoint.files.file import File \n",
    "\n",
    "import requests\n",
    "import pandas as pd\n",
    "import io\n",
    "\n",
    "import os\n",
    "# Aqui colocar a pasta onde fica o script \n",
    "os.chdir(r'C:\\Users\\ThiagoBluhm\\OneDrive - Grupo Portfolio\\Documentos\\ESTUDO\\sharepoint')"
   ]
  },
  {
   "cell_type": "markdown",
   "id": "c4f7e05e",
   "metadata": {
    "ExecuteTime": {
     "end_time": "2022-10-26T18:06:56.542319Z",
     "start_time": "2022-10-26T18:06:56.535685Z"
    }
   },
   "source": [
    "### Set de acordo com o usuario"
   ]
  },
  {
   "cell_type": "code",
   "execution_count": 110,
   "id": "d0cb13be",
   "metadata": {
    "ExecuteTime": {
     "end_time": "2022-10-26T19:11:57.316225Z",
     "start_time": "2022-10-26T19:11:57.307762Z"
    }
   },
   "outputs": [],
   "source": [
    "sharepoint_base_url = 'https://yourdomain.sharepoint.com/sites/bi/'\n",
    "sharepoint_user = 'your_user'\n",
    "#essa senha é gerada pela conta do usuario e deve ser a senha de APP\n",
    "sharepoint_password = 'yourpass_to_application_take_into_account_'\n",
    "#go to security info's, that's it into yours sharepoint account and ++ ADD ENTER METHOD\n",
    "#choice the APPLICATION PASS and after change here... it's simple...\n",
    "####################################################################\n",
    "pasta_no_sharepoint = '/sites/bi/Pasta/Consulting/Laredo'"
   ]
  },
  {
   "cell_type": "code",
   "execution_count": 103,
   "id": "d58d28bb",
   "metadata": {
    "ExecuteTime": {
     "end_time": "2022-10-26T18:32:12.623753Z",
     "start_time": "2022-10-26T18:32:12.602385Z"
    }
   },
   "outputs": [],
   "source": [
    "def inicio(sharepoint_base_url, sharepoint_user, sharepoint_password, pasta_no_sharepoint):\n",
    "    try:\n",
    "        auth = AuthenticationContext(sharepoint_base_url) \n",
    "        auth.acquire_token_for_user(sharepoint_user, sharepoint_password)\n",
    "        ctx = ClientContext(sharepoint_base_url, auth)\n",
    "        web = ctx.web\n",
    "        ctx.load(web)\n",
    "        ctx.execute_query()\n",
    "\n",
    "        # Confirmando onde estamos no SHAREPOINT\n",
    "        print('Connected to SharePoint: ',web.properties['Title'])\n",
    "        print('Iniciar download...')\n",
    "        propriedades = carregar_pastas(ctx, pasta_no_sharepoint)        \n",
    "        \n",
    "    except:\n",
    "        print('Problemas com a autenticacao.')\n",
    "        \n",
    "    return propriedades\n",
    "\n",
    "# Buscando pastas de acordo com a URL relativa passada acima.\n",
    "def carregar_pastas(ctx, pasta_no_sharepoint):\n",
    "    try:\n",
    "        pasta = ctx.web.get_folder_by_server_relative_url(pasta_no_sharepoint)\n",
    "        propriedades = []  \n",
    "        sub_pasta = pasta.files   \n",
    "        ctx.load(sub_pasta)  \n",
    "        ctx.execute_query()  \n",
    "        for conteudo in sub_pasta:\n",
    "            propriedades.append(conteudo.properties) \n",
    "\n",
    "        #gravando arquivo na pasta especificada\n",
    "        #especifiquei propriedades[0]['Name'] pq so existe um arquivo na pasta do sharepoint\n",
    "        #fazer um loop se houver mais de um arquivo, ou especificar o nome do arquivo a ser trazido\n",
    "        grava_arquivo(propriedades[0]['ServerRelativeUrl'], propriedades[0]['Name'])\n",
    "        \n",
    "    except:\n",
    "        print('Algum problema com a leitura das pastas. Confira a autenticacao.')\n",
    "    \n",
    "    return propriedades\n",
    "\n",
    "def grava_arquivo(caminho_relativo_url, nome_arquivo):\n",
    "    # aqui colocar a pasta dentro da pasta onde fica o script que recebera o download + nome do arquivo\n",
    "    diretorio = checa_dir(r'./arquivo/')\n",
    "    pasta_para_download = diretorio + nome_arquivo\n",
    "    try:\n",
    "        with open(pasta_para_download, \"wb\") as local_file:\n",
    "            file = ctx.web.get_file_by_server_relative_path(caminho_relativo_url)\n",
    "            file.download(local_file).execute_query()\n",
    "\n",
    "        print(\"[Ok] Arquivo foi baixado na pasta: {0}\".format(nome_arquivo))\n",
    "    \n",
    "    except:\n",
    "        print('Algum problema com o download!')\n",
    "\n",
    "    return 0\n",
    "\n",
    "def checa_dir(diretorio):\n",
    "    if os.path.isdir(diretorio) is False:\n",
    "        os.mkdir(diretorio)\n",
    "        dir_ = diretorio\n",
    "        print(f'Diretorio criado: {diretorio}')\n",
    "    else:\n",
    "        print(f'Diretorio já {diretorio} existe.')\n",
    "        dir_ = diretorio\n",
    "    \n",
    "    return dir_"
   ]
  },
  {
   "cell_type": "markdown",
   "id": "085a5900",
   "metadata": {},
   "source": [
    "### Chamando funcao inicio"
   ]
  },
  {
   "cell_type": "code",
   "execution_count": 104,
   "id": "d1663aab",
   "metadata": {
    "ExecuteTime": {
     "end_time": "2022-10-26T18:32:18.282355Z",
     "start_time": "2022-10-26T18:32:14.153108Z"
    }
   },
   "outputs": [
    {
     "name": "stdout",
     "output_type": "stream",
     "text": [
      "Connected to SharePoint:  Business Intelligence\n",
      "Iniciar download...\n",
      "Diretorio criado: ./arquivo/\n",
      "[Ok] Arquivo foi baixado na pasta: CH_Laredo_ate_1410.xlsx\n"
     ]
    }
   ],
   "source": [
    "props_lista = inicio(sharepoint_base_url, sharepoint_user, sharepoint_password, pasta_no_sharepoint) "
   ]
  },
  {
   "cell_type": "code",
   "execution_count": 96,
   "id": "25cca020",
   "metadata": {
    "ExecuteTime": {
     "end_time": "2022-10-26T18:23:33.705949Z",
     "start_time": "2022-10-26T18:23:33.688453Z"
    }
   },
   "outputs": [
    {
     "data": {
      "text/plain": [
       "[{'CheckInComment': '',\n",
       "  'CheckOutType': 2,\n",
       "  'ContentTag': '{1F1360B5-9FF9-48CF-9A54-BD7E5A1D7F65},12,27',\n",
       "  'CustomizedPageStatus': 0,\n",
       "  'ETag': '\"{1F1360B5-9FF9-48CF-9A54-BD7E5A1D7F65},12\"',\n",
       "  'Exists': True,\n",
       "  'IrmEnabled': False,\n",
       "  'Length': '26634',\n",
       "  'Level': 1,\n",
       "  'LinkingUri': 'https://grupoportfoliocombr.sharepoint.com/sites/bi/Pasta/Consulting/Laredo/CH_Laredo_ate_1410.xlsx?d=w1f1360b59ff948cf9a54bd7e5a1d7f65',\n",
       "  'LinkingUrl': 'https://grupoportfoliocombr.sharepoint.com/sites/bi/Pasta/Consulting/Laredo/CH_Laredo_ate_1410.xlsx?d=w1f1360b59ff948cf9a54bd7e5a1d7f65',\n",
       "  'MajorVersion': 4,\n",
       "  'MinorVersion': 0,\n",
       "  'Name': 'CH_Laredo_ate_1410.xlsx',\n",
       "  'ServerRelativeUrl': '/sites/bi/Pasta/Consulting/Laredo/CH_Laredo_ate_1410.xlsx',\n",
       "  'TimeCreated': '2022-10-19T09:33:19Z',\n",
       "  'TimeLastModified': '2022-10-21T13:02:47Z',\n",
       "  'Title': '',\n",
       "  'UIVersion': 2048,\n",
       "  'UIVersionLabel': '4.0',\n",
       "  'UniqueId': '1f1360b5-9ff9-48cf-9a54-bd7e5a1d7f65'}]"
      ]
     },
     "execution_count": 96,
     "metadata": {},
     "output_type": "execute_result"
    }
   ],
   "source": [
    "# Constatando outros dados que vem nas propriedades do CTX\n",
    "props_lista"
   ]
  },
  {
   "cell_type": "markdown",
   "id": "4f7f532d",
   "metadata": {},
   "source": [
    "### EOF "
   ]
  }
 ],
 "metadata": {
  "hide_input": false,
  "kernelspec": {
   "display_name": "Python 3 (ipykernel)",
   "language": "python",
   "name": "python3"
  },
  "language_info": {
   "codemirror_mode": {
    "name": "ipython",
    "version": 3
   },
   "file_extension": ".py",
   "mimetype": "text/x-python",
   "name": "python",
   "nbconvert_exporter": "python",
   "pygments_lexer": "ipython3",
   "version": "3.9.12"
  },
  "toc": {
   "base_numbering": 1,
   "nav_menu": {},
   "number_sections": true,
   "sideBar": true,
   "skip_h1_title": false,
   "title_cell": "Table of Contents",
   "title_sidebar": "Contents",
   "toc_cell": false,
   "toc_position": {},
   "toc_section_display": true,
   "toc_window_display": false
  }
 },
 "nbformat": 4,
 "nbformat_minor": 5
}
